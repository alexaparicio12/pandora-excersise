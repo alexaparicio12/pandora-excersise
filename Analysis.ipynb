{
 "cells": [
  {
   "cell_type": "code",
   "execution_count": 1,
   "id": "12e24dbe-3bcc-419d-b964-d29b82c36ef7",
   "metadata": {},
   "outputs": [
    {
     "name": "stderr",
     "output_type": "stream",
     "text": [
      "/Users/alex/PycharmProjects/Pandora_project/venv/lib/python3.8/site-packages/pyspark/pandas/__init__.py:50: UserWarning: 'PYARROW_IGNORE_TIMEZONE' environment variable was not set. It is required to set this environment variable to '1' in both driver and executor sides if you use pyarrow>=2.0.0. pandas-on-Spark will set it for you but it does not work if there is a Spark context already launched.\n",
      "  warnings.warn(\n"
     ]
    }
   ],
   "source": [
    "from pyspark.sql import SparkSession, functions as F, types as T, DataFrame\n",
    "from pyspark.ml.recommendation import ALS\n",
    "from pyspark.ml.evaluation import RegressionEvaluator, RankingEvaluator\n",
    "from pyspark.ml.feature import StringIndexer\n",
    "import pyspark.pandas as ps\n",
    "import association_metrics as am\n",
    "import pandas as pd\n",
    "import seaborn as sns\n",
    "import matplotlib.pyplot as plt\n",
    "import numpy as np\n",
    "from typing import List\n",
    "from scipy.spatial import distance"
   ]
  },
  {
   "cell_type": "code",
   "execution_count": 2,
   "id": "e0038a3c-9572-44e9-8ae1-959023b4ebf0",
   "metadata": {},
   "outputs": [
    {
     "name": "stderr",
     "output_type": "stream",
     "text": [
      "23/10/26 02:19:23 WARN Utils: Your hostname, Alejandros-MacBook-Pro.local resolves to a loopback address: 127.0.0.1; using 192.168.43.128 instead (on interface en0)\n",
      "23/10/26 02:19:23 WARN Utils: Set SPARK_LOCAL_IP if you need to bind to another address\n",
      "Setting default log level to \"WARN\".\n",
      "To adjust logging level use sc.setLogLevel(newLevel). For SparkR, use setLogLevel(newLevel).\n",
      "23/10/26 02:19:24 WARN NativeCodeLoader: Unable to load native-hadoop library for your platform... using builtin-java classes where applicable\n",
      "23/10/26 02:19:25 WARN Utils: Service 'SparkUI' could not bind on port 4040. Attempting port 4041.\n"
     ]
    }
   ],
   "source": [
    "spark = SparkSession.builder \\\n",
    "        .master('local') \\\n",
    "        .appName('myAppName') \\\n",
    "        .config('spark.executor.memory', '5gb') \\\n",
    "        .config(\"spark.cores.max\", \"6\") \\\n",
    "        .getOrCreate()"
   ]
  },
  {
   "cell_type": "code",
   "execution_count": 3,
   "id": "c68dafa2-d53c-43f6-bfdc-b7ea278c492f",
   "metadata": {},
   "outputs": [
    {
     "name": "stderr",
     "output_type": "stream",
     "text": [
      "                                                                                \r"
     ]
    }
   ],
   "source": [
    "product_df = spark.read.parquet('Data/product_.parquet')\n",
    "orders_df = spark.read.parquet('Data/orders_.parquet')"
   ]
  },
  {
   "cell_type": "code",
   "execution_count": 4,
   "id": "7eabfa7c-f4f2-4a9d-9f10-cd42fb191a91",
   "metadata": {},
   "outputs": [
    {
     "name": "stderr",
     "output_type": "stream",
     "text": [
      "                                                                                \r"
     ]
    },
    {
     "data": {
      "text/plain": [
       "[Row(category=1, collection=9.0, color=1.0, launch_create_date='2000-Q1', material=1.0, metal_type=2.0, size=253.0, stone=1.0, theme='Not Classified', sub_theme='N/A', product_id_with_size='d0acf752-1cde-4101-b5fc-4b933053ccc7', product_id='fc49edc8-e1a5-4b06-b4d0-287f342928b7', __index_level_0__=0)]"
      ]
     },
     "execution_count": 4,
     "metadata": {},
     "output_type": "execute_result"
    }
   ],
   "source": [
    "product_df.head(1)"
   ]
  },
  {
   "cell_type": "code",
   "execution_count": 5,
   "id": "47c81d5f-6081-40d5-9716-364c6e823ae9",
   "metadata": {},
   "outputs": [
    {
     "data": {
      "text/plain": [
       "Row(quantity=1, dw_ts=datetime.datetime(2023, 1, 7, 0, 0), transaction_number='90250554064', customer_id=None, store_id='ebdbclblco', store_type='Concept Store', order_id='mealaqecklliaekinjickaeokaobkcj', transaction_type=1, gross_value_dkk=5.560953183103123, net_value_dkk=5.543674213091838, product_id_with_size='b0ba151d-6064-4dd9-9e27-a7e4f456b021', product_id='b0ba151d-6064-4dd9-9e27-a7e4f456b021', __index_level_0__=0)"
      ]
     },
     "execution_count": 5,
     "metadata": {},
     "output_type": "execute_result"
    }
   ],
   "source": [
    "orders_df.head()"
   ]
  },
  {
   "cell_type": "markdown",
   "id": "3ed1ac0e-7aed-41f1-b784-9ca3a40d850f",
   "metadata": {},
   "source": [
    "**Problem statement**\n",
    "\n",
    "As a retail business, “the company” (A) wants to understand their customers better. To achieve this, they intend to use analysis and solutions based on historical data. It can help ‘A’ develop strategies to improve customer and product experience.\n",
    "\n",
    "The goal of this project is therefore to use the data provided (product_df and orders_df) to build some sort of model which helps with customer experience.\n",
    "\n",
    "We can find a customer_id in the orders_df, and it seems like the only data we will ever be able to extract at a customer level will be related to amount of spending, types of products bought, etc. I will consider the following problems:\n",
    "1. Product recommendation\n",
    "2. Customer segmentation\n",
    "3. Customer churn prediction"
   ]
  },
  {
   "cell_type": "code",
   "execution_count": 6,
   "id": "77e013d4-6224-4aca-9ada-854157336278",
   "metadata": {},
   "outputs": [
    {
     "name": "stdout",
     "output_type": "stream",
     "text": [
      "Oldest record: Row(min(dw_ts)=datetime.datetime(2023, 1, 1, 0, 0))\n",
      "Most recent record: Row(max(dw_ts)=datetime.datetime(2023, 1, 31, 0, 0))\n"
     ]
    }
   ],
   "source": [
    "print(f'Oldest record: {orders_df.select(F.min(\"dw_ts\")).first()}')\n",
    "print(f'Most recent record: {orders_df.select(F.max(\"dw_ts\")).first()}')"
   ]
  },
  {
   "cell_type": "markdown",
   "id": "d38a027f-a527-4133-ab03-e8f97af8df94",
   "metadata": {},
   "source": [
    "The orders data belongs all to the same month (January 2023). Since we are looking at purchases of jewelry items, it is unlikely that we will be able to identify customer behaviour with such a small timeframe, as most customers will not purchase jewelry multiple times in a month. \n",
    "\n",
    "<h3>Model discussion</h3>\n",
    "From my point of view, this immediately rules out the possibility of building a customer churn model. I would have assumed that a churn happens when a customer suddenly changes from a higher frequency of purchases to having no purchases at all, perhaps after a return. But with only one month of data I do not believe it would be possible to label customers as \"churned\" and \"not churned\", or identify any index of activity.\n",
    "<br>\n",
    "<br>\n",
    "Additionally, I also find it unlikely to be able to build a reliable customer segmentation model. With only one month of data, there is a very high probability of building biased features. A customer \"preferred theme\", for instance, will be biased by their January purchases but it is very possible that they would have bought products from many different themes in the past. Seasonality of January in particular might also influence the data, and I believe any type of segmentation at a customer level would be very weak.\n",
    "<br>\n",
    "<br>\n",
    "Finally, it is also a bad scenario for a recommender engine, as customer historical behaviour is lost. We do not know what products the customers were purchasing in the past and which preference they have already shown. Nevertheless, we still know what is \"popular\" at the current time, and we have very rich product data, which allows for a much more robust \"similar product\" recommender engine. I focused on the product level, not the product with size, as I understand that customers might choose sizes depending on their own physical characteristics which should be uncorrelated with their taste (ie, two customers who like the same product of different sizes still have the same taste for the purpose of this model).\n",
    "\n",
    "<h3>Approach taken</h3>\n",
    "I still wanted to keep in mind the customer preferences, so I have opted to go for two different recommender engines:\n",
    "\n",
    "1. **Proximity based recommendations** - Given a certain product, the model will identify other products which are the same in certain categories and close in price, popularity, etc... and it will return a list of these \"similar\" products which the customer might not have seen and might like more.\n",
    "2. **Collaborative filtering** - A recommender engine based on customer purchases. The idea is that, given different histories of purchases, it will identify \"similar customers\" and recommend products which you might not have bought but other similar customers to you would have. In practice, given a customer_id it will recommend certain products based on your history.\n",
    "\n",
    "\n",
    "I considered building these two models and joining the recommendations in some way, but I believe it actually makes more business sense to keep them separate. Some customers might really benefit from having personalised recommendations (collaborative filtering) while others might just be looking for a specific type of product (eg. a necklace) and would be more interested in finding all the similar products quickly."
   ]
  },
  {
   "cell_type": "markdown",
   "id": "27ce6010-fb26-4f4a-bd22-2a15d2cf5008",
   "metadata": {},
   "source": [
    "<h2>Proximity based recommendations</h2>"
   ]
  },
  {
   "cell_type": "code",
   "execution_count": 7,
   "id": "59cd222d-b123-44ec-b309-09bc564bfa0e",
   "metadata": {},
   "outputs": [],
   "source": [
    "product_df = product_df.toPandas()"
   ]
  },
  {
   "cell_type": "code",
   "execution_count": 8,
   "id": "2da7b80a-0bb6-4370-8108-e41cccec8ece",
   "metadata": {},
   "outputs": [],
   "source": [
    "categorical_variables = ['category', 'collection', 'color', 'launch_create_date', 'material', 'metal_type', 'stone', 'theme']\n",
    "product_df[categorical_variables] = product_df[categorical_variables].astype('category')"
   ]
  },
  {
   "cell_type": "code",
   "execution_count": 9,
   "id": "cec30f65-4f71-46b9-a5cc-3c674aaaa1d5",
   "metadata": {},
   "outputs": [],
   "source": [
    "cramersv = am.CramersV(product_df)"
   ]
  },
  {
   "cell_type": "code",
   "execution_count": 10,
   "id": "c35f42fe-6945-49ab-95e7-48d98b4cf038",
   "metadata": {},
   "outputs": [
    {
     "name": "stdout",
     "output_type": "stream",
     "text": [
      "                    category  collection     color  launch_create_date  \\\n",
      "category            1.000000    0.237848  0.106357            0.246079   \n",
      "collection          0.237848    1.000000  0.100588            0.313816   \n",
      "color               0.106357    0.100588  1.000000            0.271150   \n",
      "launch_create_date  0.246079    0.313816  0.271150            1.000000   \n",
      "material            0.193354    0.112751  0.168896            0.285780   \n",
      "metal_type          0.324663    0.245463  0.143397            0.324856   \n",
      "stone               0.148257    0.126664  0.510195            0.207695   \n",
      "theme               0.230912    0.249752  0.119793            0.285253   \n",
      "\n",
      "                    material  metal_type     stone     theme  \n",
      "category            0.193354    0.324663  0.148257  0.230912  \n",
      "collection          0.112751    0.245463  0.126664  0.249752  \n",
      "color               0.168896    0.143397  0.510195  0.119793  \n",
      "launch_create_date  0.285780    0.324856  0.207695  0.285253  \n",
      "material            1.000000    0.308512  0.109896  0.148059  \n",
      "metal_type          0.308512    1.000000  0.195202  0.135443  \n",
      "stone               0.109896    0.195202  1.000000  0.151207  \n",
      "theme               0.148059    0.135443  0.151207  1.000000  \n"
     ]
    }
   ],
   "source": [
    "corr = cramersv.fit()\n",
    "print(corr)"
   ]
  },
  {
   "cell_type": "code",
   "execution_count": 11,
   "id": "03bcfcc2-6637-4f30-ba8c-60e19362b2d3",
   "metadata": {},
   "outputs": [
    {
     "data": {
      "text/plain": [
       "<Axes: >"
      ]
     },
     "execution_count": 11,
     "metadata": {},
     "output_type": "execute_result"
    },
    {
     "data": {
      "image/png": "[encoded data removed]",
      "text/plain": [
       "<Figure size 1100x900 with 2 Axes>"
      ]
     },
     "metadata": {},
     "output_type": "display_data"
    }
   ],
   "source": [
    "# Generate a mask for the upper triangle\n",
    "mask = np.triu(np.ones_like(corr, dtype=bool))\n",
    "\n",
    "# Set up the matplotlib figure\n",
    "f, ax = plt.subplots(figsize=(11, 9))\n",
    "\n",
    "# Generate a custom diverging colormap\n",
    "cmap = sns.diverging_palette(230, 20, as_cmap=True)\n",
    "\n",
    "# Draw the heatmap with the mask and correct aspect ratio\n",
    "sns.heatmap(corr, mask=mask, cmap=cmap, vmax=.5, center=0,\n",
    "            square=True, linewidths=.5, cbar_kws={\"shrink\": .5})"
   ]
  },
  {
   "cell_type": "markdown",
   "id": "32634f58-7754-4a5c-8014-b6b6c2448f5f",
   "metadata": {},
   "source": [
    "<h3>Correlation of categories using Cramer's V</h3>\n",
    "Cramer's V is a correlation matrix for identifying associations of categorical variables.\n",
    "The matrix suggests that most categorical features are not as highly correlated to each other as one might think originally. The only obvious association is stone type to color. This means that there are potentially a few products in each categorical combination and it is fair to assume that any combination of categories could be populated."
   ]
  },
  {
   "cell_type": "code",
   "execution_count": 12,
   "id": "44336c09-ca01-4869-9d04-bcb2f01a61d4",
   "metadata": {},
   "outputs": [
    {
     "name": "stdout",
     "output_type": "stream",
     "text": [
      "Variable \"category\" has 9 possible values\n",
      "Variable \"collection\" has 17 possible values\n",
      "Variable \"color\" has 20 possible values\n",
      "Variable \"launch_create_date\" has 91 possible values\n",
      "Variable \"material\" has 13 possible values\n",
      "Variable \"metal_type\" has 24 possible values\n",
      "Variable \"stone\" has 61 possible values\n",
      "Variable \"theme\" has 12 possible values\n",
      "possible combinations = 63595808640\n"
     ]
    }
   ],
   "source": [
    "possible_combinations = 1\n",
    "for col in categorical_variables:\n",
    "    n = product_df[col].nunique()\n",
    "    print(f'Variable \"{col}\" has {n} possible values')\n",
    "    possible_combinations *= n\n",
    "print(f'possible combinations = {possible_combinations}')"
   ]
  },
  {
   "cell_type": "markdown",
   "id": "0d41dfe2-8489-43cb-a027-fcef20f851e3",
   "metadata": {},
   "source": [
    "With 63595808640 possible combinations of categories, I had to come up with a way to find similar products which would perhaps not be within the exact same categorical bucket. To avoid complex if statements, I decided to use Levenshtein distance. It is a measure of string proximity, which in this case I would apply to categories. \n",
    "<br>\n",
    "Here is an illustration:\n",
    "1. Lev_distance(\"ab\", \"ax\") = 1\n",
    "2. Lev_distance(\"ab\", \"abx\") = 1\n",
    "3. Lev_distance(\"ac\", \"axy\") = 2\n",
    "\n",
    "With further business context, the weight for certain categories could be adjusted for improved results. However, for this exercise given the low correlations between categorical variables, I decided to proceed with this method.\n",
    "\n",
    "**Application details**: I converted the \"theme\" column into a number, to make sure it showed a similar size to all other categorical columns. I ignored the \"sub_theme\" column and the \"launch_create_date\"."
   ]
  },
  {
   "cell_type": "code",
   "execution_count": 13,
   "id": "94168d54-b698-4c2f-8e97-3a0850bfae41",
   "metadata": {},
   "outputs": [
    {
     "name": "stdout",
     "output_type": "stream",
     "text": [
      "Variable \"category\" has 0 nulls out of 20874 values\n",
      "Variable \"collection\" has 1 nulls out of 20874 values\n",
      "Variable \"color\" has 1 nulls out of 20874 values\n",
      "Variable \"launch_create_date\" has 2 nulls out of 20874 values\n",
      "Variable \"material\" has 1 nulls out of 20874 values\n",
      "Variable \"metal_type\" has 1 nulls out of 20874 values\n",
      "Variable \"size\" has 1 nulls out of 20874 values\n",
      "Variable \"stone\" has 1 nulls out of 20874 values\n",
      "Variable \"theme\" has 458 nulls out of 20874 values\n",
      "Variable \"sub_theme\" has 458 nulls out of 20874 values\n",
      "Variable \"product_id_with_size\" has 0 nulls out of 20874 values\n",
      "Variable \"product_id\" has 0 nulls out of 20874 values\n",
      "Variable \"__index_level_0__\" has 0 nulls out of 20874 values\n"
     ]
    }
   ],
   "source": [
    "for col in product_df.columns:\n",
    "    n = product_df[col].isna().sum()\n",
    "    l = len(product_df[col])\n",
    "    print(f'Variable \"{col}\" has {n} nulls out of {l} values')"
   ]
  },
  {
   "cell_type": "markdown",
   "id": "a3ee4194-3cf8-49ca-ac07-f368491c9a66",
   "metadata": {},
   "source": [
    "There only seems to be an issue with nulls for \"theme\" and \"sub_theme\" columns. I converted these into a category in itself."
   ]
  },
  {
   "cell_type": "code",
   "execution_count": 14,
   "id": "f5d27f98-4502-4937-a0b9-e5440d640d13",
   "metadata": {},
   "outputs": [
    {
     "name": "stdout",
     "output_type": "stream",
     "text": [
      "Total number of distinct products: 8140.\n"
     ]
    }
   ],
   "source": [
    "unique_products = product_df['product_id'].nunique()\n",
    "print(f'Total number of distinct products: {unique_products}.')"
   ]
  },
  {
   "cell_type": "markdown",
   "id": "36577fd2-a555-4e90-b98b-c693ebd0b37d",
   "metadata": {},
   "source": [
    "For numerical features, I considered product size, number of sales and average price of sales. The last two were obtained from the orders_df table. I only focused on sales, as I did not wish to consider returns as relevant for product similarity. To avoid any noise, I removed sales over a certain amount."
   ]
  },
  {
   "cell_type": "markdown",
   "id": "2e7ecc40-c452-4d34-ae77-cd15919c50c8",
   "metadata": {},
   "source": [
    "For the variable of value in DKK I assumed that, if there were any outliers, the values would be dependent on product type, so removing them would not make much sense. I also understand that purchases might have been made under different conditions, so I took the average value for each product to mitigate bias."
   ]
  },
  {
   "cell_type": "code",
   "execution_count": 15,
   "id": "108dcbef-3e1e-44f0-a56c-d05b0909e16c",
   "metadata": {},
   "outputs": [
    {
     "data": {
      "text/plain": [
       "Row(quantity=1, dw_ts=datetime.datetime(2023, 1, 7, 0, 0), transaction_number='90250554064', customer_id=None, store_id='ebdbclblco', store_type='Concept Store', order_id='mealaqecklliaekinjickaeokaobkcj', transaction_type=1, gross_value_dkk=5.560953183103123, net_value_dkk=5.543674213091838, product_id_with_size='b0ba151d-6064-4dd9-9e27-a7e4f456b021', product_id='b0ba151d-6064-4dd9-9e27-a7e4f456b021', __index_level_0__=0)"
      ]
     },
     "execution_count": 15,
     "metadata": {},
     "output_type": "execute_result"
    }
   ],
   "source": [
    "orders_df.head()"
   ]
  },
  {
   "cell_type": "code",
   "execution_count": 16,
   "id": "456f9bf4-3130-4502-99f5-644bf5c9f74a",
   "metadata": {},
   "outputs": [],
   "source": [
    "sales = orders_df[orders_df['quantity']>0]\n",
    "product_amounts = sales[['quantity','product_id']].groupby('product_id').sum()\n",
    "product_amounts = product_amounts.toPandas()"
   ]
  },
  {
   "cell_type": "code",
   "execution_count": 17,
   "id": "280fe160-e858-449b-8a6d-c17a6894fd20",
   "metadata": {},
   "outputs": [
    {
     "data": {
      "text/plain": [
       "<Axes: ylabel='Frequency'>"
      ]
     },
     "execution_count": 17,
     "metadata": {},
     "output_type": "execute_result"
    },
    {
     "data": {
      "image/png": "[encoded data removed]",
      "text/plain": [
       "<Figure size 640x480 with 1 Axes>"
      ]
     },
     "metadata": {},
     "output_type": "display_data"
    }
   ],
   "source": [
    "product_amounts = product_amounts[product_amounts['sum(quantity)']<10000]\n",
    "product_amounts['sum(quantity)'].plot.hist(bins=20)"
   ]
  },
  {
   "cell_type": "markdown",
   "id": "c8e2d65a-da7e-4d8e-bac6-c955c13aa804",
   "metadata": {},
   "source": [
    "The distribution suggests that a few products are much more popular than others. I was not too concerned about this as it just means that a customer searching for a popular product will be recommended with greater likelihood another popular product. If recommendations are not satisfactory I would introduce a weight for this parameter or remove it from the model. For this exercise I decided to keep it."
   ]
  },
  {
   "cell_type": "code",
   "execution_count": 18,
   "id": "66113eb6-1497-48da-9b9d-2d875629cd70",
   "metadata": {},
   "outputs": [],
   "source": [
    "product_values = sales[['gross_value_dkk','product_id']].groupby('product_id').mean()\n",
    "product_values = product_values.toPandas()"
   ]
  },
  {
   "cell_type": "code",
   "execution_count": 19,
   "id": "2dba3340-434f-4cf4-8e65-0b9b19ce3410",
   "metadata": {},
   "outputs": [
    {
     "data": {
      "text/plain": [
       "<Axes: ylabel='Frequency'>"
      ]
     },
     "execution_count": 19,
     "metadata": {},
     "output_type": "execute_result"
    },
    {
     "data": {
      "image/png": "[encoded data removed]",
      "text/plain": [
       "<Figure size 640x480 with 1 Axes>"
      ]
     },
     "metadata": {},
     "output_type": "display_data"
    }
   ],
   "source": [
    "product_values = product_values[product_values['avg(gross_value_dkk)']<10]\n",
    "product_values['avg(gross_value_dkk)'].plot.hist(bins=20)"
   ]
  },
  {
   "cell_type": "markdown",
   "id": "db97a49a-d640-45bc-9c2c-5e3f2c023f26",
   "metadata": {},
   "source": [
    "I was surprised that there is such a packed distribution for the value of the different products. Perhaps this variable won't be very discriminative when it comes to identifying similar products, but I still thought there was some interest in including it."
   ]
  },
  {
   "cell_type": "markdown",
   "id": "1ac404c8-c045-42de-88cb-0d2d9d798ae2",
   "metadata": {},
   "source": [
    "<h3>Calculation of distance metrics</h3>"
   ]
  },
  {
   "cell_type": "code",
   "execution_count": 20,
   "id": "afb7e5fa-3225-420c-8b3e-87039cd96a53",
   "metadata": {},
   "outputs": [],
   "source": [
    "#Initialise data\n",
    "product_df = spark.read.parquet('Data/product_.parquet')\n",
    "orders_df = spark.read.parquet('Data/orders_.parquet')\n",
    "sales = orders_df[orders_df['quantity']>0]"
   ]
  },
  {
   "cell_type": "code",
   "execution_count": 21,
   "id": "d38e8e17-6ac3-44b0-8a3c-539e23d60295",
   "metadata": {},
   "outputs": [],
   "source": [
    "#Find numerical variables from sales data\n",
    "product_numeric = sales[['product_id','gross_value_dkk']].groupby('product_id').agg(F.mean('gross_value_dkk'), F.count('gross_value_dkk'))\n",
    "product_numeric = product_numeric.withColumnRenamed(\n",
    "    'avg(gross_value_dkk)', 'avg_value').withColumnRenamed('count(gross_value_dkk)','sales_amt')"
   ]
  },
  {
   "cell_type": "code",
   "execution_count": 22,
   "id": "edc93168-c96d-4e80-bc13-38a02e376369",
   "metadata": {},
   "outputs": [],
   "source": [
    "product_data = product_df.join(product_numeric, on='product_id', how='left')"
   ]
  },
  {
   "cell_type": "code",
   "execution_count": 23,
   "id": "65f640ab-e64a-4e98-a3ce-14b479076600",
   "metadata": {},
   "outputs": [],
   "source": [
    "#Set numerical and categorical variables to be used\n",
    "numerical_features = ['size', 'avg_value', 'sales_amt']\n",
    "categorical_features = ['category','collection','color','material','metal_type', 'stone', 'theme_id']"
   ]
  },
  {
   "cell_type": "code",
   "execution_count": 24,
   "id": "16c33dd0-5a99-4061-8676-76e5bd50df11",
   "metadata": {},
   "outputs": [
    {
     "name": "stderr",
     "output_type": "stream",
     "text": [
      "                                                                                \r"
     ]
    },
    {
     "data": {
      "text/plain": [
       "Row(product_id='dc43ffbf-2d5a-4a9c-a197-edcb618314a2', category=1, collection=1.0, color=3.0, launch_create_date='2004-Q3', material=1.0, metal_type=4.0, size=200.0, stone=60.0, theme='Nature and Celestial', sub_theme='N/A', product_id_with_size='1572b858-6cf4-4700-8cba-429893552ee0', __index_level_0__=135, avg_value=None, sales_amt=None, theme_id='1.0')"
      ]
     },
     "execution_count": 24,
     "metadata": {},
     "output_type": "execute_result"
    }
   ],
   "source": [
    "#Convert the theme column into a code of similar length to other categories\n",
    "product_data = product_data.fillna({'theme': 'Null'})\n",
    "indexer = StringIndexer(inputCol=\"theme\", outputCol=\"theme_id\")\n",
    "product_data = indexer.fit(product_data).transform(product_data)\n",
    "product_data = product_data.withColumn('theme_id', F.col('theme_id').cast(T.StringType()))\n",
    "product_data.head()"
   ]
  },
  {
   "cell_type": "code",
   "execution_count": 25,
   "id": "15637be7-26d0-448b-a40f-0b78483d7d10",
   "metadata": {},
   "outputs": [
    {
     "data": {
      "text/plain": [
       "Row(product_id='dc43ffbf-2d5a-4a9c-a197-edcb618314a2', category=1, collection=1.0, color=3.0, launch_create_date='2004-Q3', material=1.0, metal_type=4.0, size=200.0, stone=60.0, theme='Nature and Celestial', sub_theme='N/A', product_id_with_size='1572b858-6cf4-4700-8cba-429893552ee0', __index_level_0__=135, avg_value=None, sales_amt=None, theme_id='1.0', category_string='11.03.01.04.060.01.0')"
      ]
     },
     "execution_count": 25,
     "metadata": {},
     "output_type": "execute_result"
    }
   ],
   "source": [
    "#Create category string\n",
    "product_data = product_data.withColumn('category_string', F.concat(*[F.col(column) for column in categorical_features]))\n",
    "product_data.head()"
   ]
  },
  {
   "cell_type": "code",
   "execution_count": 26,
   "id": "4bf4883f-6d9a-44b9-a768-aef9be897ef4",
   "metadata": {},
   "outputs": [],
   "source": [
    "product_data = product_data.drop('__index_level_0__')\n",
    "pd_product_data = product_data.pandas_api()"
   ]
  },
  {
   "cell_type": "code",
   "execution_count": 30,
   "id": "60e24792-5280-4972-90a0-b633ab5f820b",
   "metadata": {},
   "outputs": [],
   "source": [
    "#Extract numerical features, fill nulls and normalise\n",
    "numeric_product_data = product_data[['product_id'] + numerical_features]\n",
    "numeric_product_data = numeric_product_data.pandas_api()\n",
    "for col in numerical_features:\n",
    "    #A null in sales_amt means that there were no sales in the month of January, so a 0 should be input\n",
    "    if col=='sales_amt':\n",
    "        numeric_product_data[col] = numeric_product_data[col].fillna(0)\n",
    "    #A null in other variables is simply a data quality issue, so I decided to fill it with the mean\n",
    "    else:\n",
    "        numeric_product_data[col] = numeric_product_data[col].fillna(numeric_product_data[col].mean())\n",
    "    numeric_product_data[col] = (numeric_product_data[col] - numeric_product_data[col].mean())/numeric_product_data[col].std()"
   ]
  },
  {
   "cell_type": "code",
   "execution_count": 32,
   "id": "7c30eb7c-f890-4169-b9f5-b83b372ce64d",
   "metadata": {},
   "outputs": [
    {
     "name": "stderr",
     "output_type": "stream",
     "text": [
      "/Users/alex/PycharmProjects/Pandora_project/venv/lib/python3.8/site-packages/pyspark/pandas/utils.py:1016: PandasAPIOnSparkAdviceWarning: If `index_col` is not specified for `to_spark`, the existing index is lost when converting to Spark DataFrame.\n",
      "  warnings.warn(message, PandasAPIOnSparkAdviceWarning)\n"
     ]
    },
    {
     "data": {
      "text/plain": [
       "Row(product_id='dc43ffbf-2d5a-4a9c-a197-edcb618314a2', category=1, collection=1.0, color=3.0, launch_create_date='2004-Q3', material=1.0, metal_type=4.0, size=200.0, stone=60.0, theme='Nature and Celestial', sub_theme='N/A', product_id_with_size='1572b858-6cf4-4700-8cba-429893552ee0', avg_value=None, sales_amt=None, theme_id='1.0', category_string='11.03.01.04.060.01.0', vector=[-0.7227540237150822, 1.2185700293454966e-11, -0.19632705998558558])"
      ]
     },
     "execution_count": 32,
     "metadata": {},
     "output_type": "execute_result"
    }
   ],
   "source": [
    "#Join back into a vector column the numerical features\n",
    "numeric_product_data = numeric_product_data.to_spark()\n",
    "numeric_data_vec = numeric_product_data.withColumn('vector',F.array(*[F.col(column) for column in numerical_features]))\n",
    "product_data_full = product_data.join(numeric_data_vec[['product_id', 'vector']], on='product_id', how='left')\n",
    "product_data_full.head()"
   ]
  },
  {
   "cell_type": "markdown",
   "id": "afbacb3b-aba8-4118-85ae-0b7dc23416a0",
   "metadata": {},
   "source": [
    "In the API implementation, this \"product_data_full\" table is saved to memory and when a call is done to the API only the following code runs:"
   ]
  },
  {
   "cell_type": "code",
   "execution_count": 33,
   "id": "40b08af4-101e-4e14-a9ea-1bd1dbd7a6a9",
   "metadata": {},
   "outputs": [
    {
     "name": "stderr",
     "output_type": "stream",
     "text": [
      "[Stage 164:>                                                        (0 + 1) / 1]\r"
     ]
    },
    {
     "name": "stdout",
     "output_type": "stream",
     "text": [
      "31.01.01.016.01.00.0 [-1.1651878420289508, 4.037966365638576, -0.09354563261242156]\n"
     ]
    },
    {
     "name": "stderr",
     "output_type": "stream",
     "text": [
      "                                                                                \r"
     ]
    }
   ],
   "source": [
    "#Extract \"points\" corresponding to the input product\n",
    "input = '85eda794-f182-4768-94cc-f21d04164d46'\n",
    "input_product_info = product_data_full.filter(product_data.product_id == input)\n",
    "input_category_code = input_product_info.rdd.map(lambda x: x['category_string']).collect()[0]\n",
    "input_vec = input_product_info.rdd.map(lambda x: x['vector']).collect()[0]\n",
    "print(input_category_code, input_vec)"
   ]
  },
  {
   "cell_type": "code",
   "execution_count": 34,
   "id": "958f009f-984e-49f4-b190-d96fc2217ba9",
   "metadata": {},
   "outputs": [
    {
     "name": "stderr",
     "output_type": "stream",
     "text": [
      "                                                                                \r"
     ]
    },
    {
     "data": {
      "text/plain": [
       "Row(product_id='dc43ffbf-2d5a-4a9c-a197-edcb618314a2', category=1, collection=1.0, color=3.0, launch_create_date='2004-Q3', material=1.0, metal_type=4.0, size=200.0, stone=60.0, theme='Nature and Celestial', sub_theme='N/A', product_id_with_size='1572b858-6cf4-4700-8cba-429893552ee0', avg_value=None, sales_amt=None, theme_id='1.0', category_string='11.03.01.04.060.01.0', vector=[-0.7227540237150822, 1.2185700293454966e-11, -0.19632705998558558], lev_distance=7, euc_distance=4.063432693481445)"
      ]
     },
     "execution_count": 34,
     "metadata": {},
     "output_type": "execute_result"
    }
   ],
   "source": [
    "#Calculate Levenshtein distance from input_category_code to all other product category codes\n",
    "product_data_lev = product_data_full.withColumn('lev_distance', F.levenshtein(F.lit(input_category_code), F.col('category_string')))\n",
    "\n",
    "#Calculate Euclidean distance from input_vec to all other product vectors\n",
    "distance_udf = F.udf(lambda x: float(distance.euclidean(x, input_vec)), T.FloatType())\n",
    "product_data_lev_euc = product_data_lev.withColumn('euc_distance', distance_udf(F.col('vector')))\n",
    "\n",
    "product_data_lev_euc.head()"
   ]
  },
  {
   "cell_type": "code",
   "execution_count": 35,
   "id": "35a6cb6a-1745-4c16-9490-aa55a3ae68a5",
   "metadata": {},
   "outputs": [
    {
     "name": "stderr",
     "output_type": "stream",
     "text": [
      "                                                                                \r"
     ]
    }
   ],
   "source": [
    "#Unify both Levenshtein and Euclidean distance into a single score. This requires normalisation. \n",
    "#More weight was given to categorical variables based on correlation and distribution analysis.\n",
    "pd_spark_data = product_data_lev_euc.pandas_api()\n",
    "norm_lev_dist = (pd_spark_data['lev_distance'] - pd_spark_data['lev_distance'].mean()) / pd_spark_data['lev_distance'].std()\n",
    "norm_euc_dist = (pd_spark_data['euc_distance'] - pd_spark_data['euc_distance'].mean()) / pd_spark_data['euc_distance'].std()\n",
    "w_lev, w_euc = 0.8, 0.2\n",
    "pd_spark_data['distance'] = w_lev * norm_lev_dist + w_euc * norm_euc_dist"
   ]
  },
  {
   "cell_type": "code",
   "execution_count": 36,
   "id": "bdc9ef0c-39c1-485a-85c0-626a04d65c66",
   "metadata": {},
   "outputs": [
    {
     "name": "stderr",
     "output_type": "stream",
     "text": [
      "                                                                                \r"
     ]
    },
    {
     "data": {
      "text/html": [
       "<div>\n",
       "<style scoped>\n",
       "    .dataframe tbody tr th:only-of-type {\n",
       "        vertical-align: middle;\n",
       "    }\n",
       "\n",
       "    .dataframe tbody tr th {\n",
       "        vertical-align: top;\n",
       "    }\n",
       "\n",
       "    .dataframe thead th {\n",
       "        text-align: right;\n",
       "    }\n",
       "</style>\n",
       "<table border=\"1\" class=\"dataframe\">\n",
       "  <thead>\n",
       "    <tr style=\"text-align: right;\">\n",
       "      <th></th>\n",
       "      <th>product_id</th>\n",
       "      <th>lev_distance</th>\n",
       "      <th>euc_distance</th>\n",
       "      <th>distance</th>\n",
       "    </tr>\n",
       "  </thead>\n",
       "  <tbody>\n",
       "    <tr>\n",
       "      <th>39583</th>\n",
       "      <td>3b1ef7eb-b0e4-4e8e-b9f9-f9bea3465945</td>\n",
       "      <td>0</td>\n",
       "      <td>1.724855</td>\n",
       "      <td>-3.634021</td>\n",
       "    </tr>\n",
       "    <tr>\n",
       "      <th>13520</th>\n",
       "      <td>111464cb-837c-4b86-b4af-a6a45338eb83</td>\n",
       "      <td>0</td>\n",
       "      <td>2.021258</td>\n",
       "      <td>-3.564569</td>\n",
       "    </tr>\n",
       "    <tr>\n",
       "      <th>11940</th>\n",
       "      <td>0e4f844c-43b6-4941-9540-4afb4606a545</td>\n",
       "      <td>0</td>\n",
       "      <td>3.135276</td>\n",
       "      <td>-3.303537</td>\n",
       "    </tr>\n",
       "    <tr>\n",
       "      <th>31595</th>\n",
       "      <td>31a9c68f-c2a1-4fbe-ba39-95373af154f5</td>\n",
       "      <td>1</td>\n",
       "      <td>0.777330</td>\n",
       "      <td>-3.286837</td>\n",
       "    </tr>\n",
       "    <tr>\n",
       "      <th>24043</th>\n",
       "      <td>2265339a-674b-4dfc-94f3-4603d4df4b81</td>\n",
       "      <td>1</td>\n",
       "      <td>1.123456</td>\n",
       "      <td>-3.205734</td>\n",
       "    </tr>\n",
       "  </tbody>\n",
       "</table>\n",
       "</div>"
      ],
      "text/plain": [
       "                                 product_id  lev_distance  euc_distance  distance\n",
       "39583  3b1ef7eb-b0e4-4e8e-b9f9-f9bea3465945             0      1.724855 -3.634021\n",
       "13520  111464cb-837c-4b86-b4af-a6a45338eb83             0      2.021258 -3.564569\n",
       "11940  0e4f844c-43b6-4941-9540-4afb4606a545             0      3.135276 -3.303537\n",
       "31595  31a9c68f-c2a1-4fbe-ba39-95373af154f5             1      0.777330 -3.286837\n",
       "24043  2265339a-674b-4dfc-94f3-4603d4df4b81             1      1.123456 -3.205734"
      ]
     },
     "execution_count": 36,
     "metadata": {},
     "output_type": "execute_result"
    }
   ],
   "source": [
    "#Using the \"distance\" column, the closest products can be found. \n",
    "#But more negative still means closer to the input product.\n",
    "other_products = pd_spark_data.loc[pd_spark_data['product_id']!=input]\n",
    "most_similar = other_products.nsmallest(n=100, columns=['distance'])\n",
    "recommendations = most_similar[['product_id','lev_distance','euc_distance','distance']].drop_duplicates(subset='product_id').sort_values('distance')\n",
    "recommendations.head()"
   ]
  },
  {
   "cell_type": "markdown",
   "id": "509256a9-6ccc-4637-9acf-9258531a3106",
   "metadata": {},
   "source": [
    "The actual implementation works with hashed product IDs for efficiency, but converts them back to unhashed when the user accesses the API.\n",
    "<br>\n",
    "There is no real way of measuring how effective this model is. The weights given to categorical or numerical features should be adjusted according to user feedback in the form of clicks. More clicks on recommended products is indicative of good model performance, so this variable should be periodically tracked. Additionally, the model can be improved with more variables without significant changes to the pipeline."
   ]
  },
  {
   "cell_type": "markdown",
   "id": "41e09e5e-fddb-4a91-84e5-03671d289020",
   "metadata": {},
   "source": [
    "<h2>Collaborative filtering</h2>"
   ]
  },
  {
   "cell_type": "code",
   "execution_count": 37,
   "id": "c7aa5829-2faf-4db1-b304-bc938d8c1f43",
   "metadata": {},
   "outputs": [
    {
     "name": "stderr",
     "output_type": "stream",
     "text": [
      "                                                                                \r"
     ]
    },
    {
     "data": {
      "text/plain": [
       "<Axes: ylabel='Frequency'>"
      ]
     },
     "execution_count": 37,
     "metadata": {},
     "output_type": "execute_result"
    },
    {
     "data": {
      "image/png": "[encoded data removed]",
      "text/plain": [
       "<Figure size 640x480 with 1 Axes>"
      ]
     },
     "metadata": {},
     "output_type": "display_data"
    }
   ],
   "source": [
    "#I wanted to see how many items each customer bought to find a reasonable cap for outliers.\n",
    "sales_count = sales[['quantity','customer_id', 'product_id']].groupby(['customer_id', 'product_id']).count()\n",
    "sales_count = sales_count[sales_count['count']<20]\n",
    "sales_count = sales_count.toPandas()\n",
    "sales_count['count'].plot.hist(bins=20)"
   ]
  },
  {
   "cell_type": "code",
   "execution_count": 38,
   "id": "6c6263b0-8636-4d05-8714-2fea6d22d4ae",
   "metadata": {},
   "outputs": [
    {
     "name": "stdout",
     "output_type": "stream",
     "text": [
      "1.8991845600484987\n"
     ]
    }
   ],
   "source": [
    "print(sales_count['count'].median() + 3*sales_count['count'].std())"
   ]
  },
  {
   "cell_type": "markdown",
   "id": "58c7d6fa-bfae-4a1a-8dda-746da74972cd",
   "metadata": {},
   "source": [
    "I used mean + 3 * standard deviation to identify outliers. I observed that most customers only bought one copy of a product with a very few exceptions.\n",
    "This is why I later decided to replace all values with 1, so a customer who purchased a product once or more rated it as 1, if they did\n",
    "not purchase it, they rated it as a 0"
   ]
  },
  {
   "cell_type": "code",
   "execution_count": 39,
   "id": "84948223-7880-49dd-ab62-4fef93fcf11c",
   "metadata": {},
   "outputs": [
    {
     "name": "stderr",
     "output_type": "stream",
     "text": [
      "                                                                                \r"
     ]
    },
    {
     "data": {
      "text/plain": [
       "Row(customer_id_h=1980278576, product_id_h=1633984710, quantity=1)"
      ]
     },
     "execution_count": 39,
     "metadata": {},
     "output_type": "execute_result"
    }
   ],
   "source": [
    "#I find the table of customer id, product id and number of purchases\n",
    "product_df = spark.read.parquet('Data/product_.parquet')\n",
    "\n",
    "orders_df_h = orders_df.withColumn('product_id_h', F.hash('product_id'))\n",
    "orders_df_h = orders_df_h.withColumn('customer_id_h', F.hash('customer_id'))\n",
    "product_df_h = product_df.withColumn('product_id_h', F.hash('product_id'))\n",
    "\n",
    "sales_h = orders_df_h[orders_df_h['quantity']>0]\n",
    "\n",
    "product_list = product_df_h.rdd.map(lambda x: x['product_id_h']).collect()\n",
    "collected_buys = sales_h[['customer_id_h','product_id_h','quantity']].groupBy(['customer_id_h','product_id_h']).sum('quantity')\n",
    "collected_buys = collected_buys.filter(collected_buys.product_id_h.isin(product_list))\n",
    "collected_buys = collected_buys.withColumnRenamed('sum(quantity)', 'quantity')\n",
    "\n",
    "#First I removed outliers (there was a null product ID and a null customer ID which return many occurrences)\n",
    "collected_buys = collected_buys.filter(collected_buys.quantity < 6)\n",
    "#Secondly I replaced all \"ratings\" by the value 1. All non-entries are already considered by the ALS model as a 0.\n",
    "collected_buys = collected_buys.withColumn('quantity', F.lit(1))\n",
    "collected_buys.head()"
   ]
  },
  {
   "cell_type": "markdown",
   "id": "f29a4cb0-aaaa-4ce2-82b9-f7c343a4400e",
   "metadata": {},
   "source": [
    "**Python implementation** <br>\n",
    "Due to the specifics of the pyspark ALS algorithm, both the customer ID and the product ID had to be integers. I decided to use the pyspark hash function for this purpose. The API implementation unhashes the output back to the original string format."
   ]
  },
  {
   "cell_type": "code",
   "execution_count": 40,
   "id": "51820aa5-72bb-404e-9a03-9f5e38085fbc",
   "metadata": {},
   "outputs": [],
   "source": [
    "#20% of the data is left for testing the recommendation engine.\n",
    "(training, test) = collected_buys.randomSplit([0.8, 0.2])"
   ]
  },
  {
   "cell_type": "code",
   "execution_count": 41,
   "id": "931b10fb-1d31-4f00-a351-d214c83792d3",
   "metadata": {},
   "outputs": [
    {
     "name": "stderr",
     "output_type": "stream",
     "text": [
      "23/10/26 02:24:48 WARN InstanceBuilder: Failed to load implementation from:dev.ludovic.netlib.blas.JNIBLAS\n",
      "23/10/26 02:24:49 WARN InstanceBuilder: Failed to load implementation from:dev.ludovic.netlib.lapack.JNILAPACK\n",
      "                                                                                \r"
     ]
    },
    {
     "name": "stdout",
     "output_type": "stream",
     "text": [
      "Mean absolute error = 0.07429934962175648\n"
     ]
    }
   ],
   "source": [
    "#The alternating least squares algorithm factorises the user-item interaction matrix. This allows to identify the items for which the\n",
    "#user is predicted to have a higher rating. This model is very commonly used in recommender engines.\n",
    "als = ALS(maxIter=15, regParam=0.07, implicitPrefs=False, rank=20, userCol=\"customer_id_h\", itemCol=\"product_id_h\", ratingCol=\"quantity\",\n",
    "          coldStartStrategy=\"drop\")\n",
    "model = als.fit(training)\n",
    "\n",
    "\n",
    "predictions = model.transform(test)\n",
    "evaluator = RegressionEvaluator(metricName=\"mae\", labelCol=\"quantity\",\n",
    "                                predictionCol=\"prediction\")\n",
    "mae = evaluator.evaluate(predictions)\n",
    "print(\"Mean absolute error = \" + str(mae))"
   ]
  },
  {
   "cell_type": "markdown",
   "id": "1419379e-4c0d-4713-b79f-9861d6309ae4",
   "metadata": {},
   "source": [
    "I used Mean Absolute Error to evaluate the model because most distances would be around the values of 0 and 1, so I expect all of the errors to be in absolute value less than 1, for which MAE is more indicative of how well the model is performing."
   ]
  },
  {
   "cell_type": "code",
   "execution_count": 42,
   "id": "447d8dd7-f925-43eb-81d7-bb35a8f811e0",
   "metadata": {},
   "outputs": [],
   "source": [
    "#Generate top 5 recommendations for each customer\n",
    "customerRecs = model.recommendForAllUsers(5)"
   ]
  },
  {
   "cell_type": "code",
   "execution_count": 43,
   "id": "211772c9-7af8-41ef-a6f0-7a81995d93a0",
   "metadata": {},
   "outputs": [
    {
     "name": "stderr",
     "output_type": "stream",
     "text": [
      "[Stage 487:======================================>                  (2 + 1) / 3]\r"
     ]
    },
    {
     "name": "stdout",
     "output_type": "stream",
     "text": [
      "-362837537\n",
      "-1652476187\n",
      "-629513671\n",
      "-950197031\n",
      "-1403030290\n"
     ]
    },
    {
     "name": "stderr",
     "output_type": "stream",
     "text": [
      "                                                                                \r"
     ]
    }
   ],
   "source": [
    "rec = customerRecs.filter(customerRecs.customer_id_h==-2147255615).collect()\n",
    "recs = rec[0]['recommendations']\n",
    "for i in range(5):\n",
    "    print(recs[i]['product_id_h'])"
   ]
  },
  {
   "cell_type": "markdown",
   "id": "a5bfa383-7bf6-4e48-bc61-5997fe731238",
   "metadata": {},
   "source": [
    "With the data provided it is difficult to evaluate whether these recommendations make sense. The MAE of the model is reasonable, in my opinion (with default parameters I was obtaining values of around 0.5). However, ideally if this model was in production, I would implement a system to track the number of clicks on recommendations. This metric would measure the \"success\" of the model quite accurately, and one could even implement a champion-challenger mechanism to determine which recommendation engine is more useful."
   ]
  },
  {
   "cell_type": "markdown",
   "id": "7acc2343-3881-4e27-81fb-460525344d59",
   "metadata": {},
   "source": [
    "<h2>Next steps</h2>\n",
    "\n",
    "Given more time and data I would have tried some of the following ideas:\n",
    "1. Look at returns of products. I believe some specific products might have been returned with high frequency. These should have been perhaps removed. I would have also removed products from outdated collections, as a shorter product list will speed up the model.\n",
    "2. With more purchase history I imagine the Collaborative Filtering would be much more accurate. Once a customer profile is built and their purchases are tracked over a few years, the model should be able to pick up much better on customer preferences. A dataset where most customers only buy one product is not a good starting point for this type of model.\n",
    "3. With additional customer data, the collaborative filtering could be reinforced with other features which allow a mixed algorithm to identify similar customers. Details such as age, sex, location, average yearly spending, etc. would strongly reinforce the model.\n",
    "4. A wishlist is a commonly used strategy to collect good data regarding customer preferences. This model only uses purchases, but with a wishlist a customer can easily point at 10+ products which they find attratcive.\n",
    "\n",
    "With regards to the ML engineering implementation, the following details are important for placing this code in production:\n",
    "1. Tracking number of clicks on recommended products is key to understanding model performance.\n",
    "2. The sales data used to train the model should be updated periodically and the model should be re-trained.\n",
    "3. The full pipeline for collaborative filtering should also be unit tested (for illustration purposes I tested proximity matching)\n",
    "4. For this project I have kept all data in a local folder, but I was not able to upload it to Github due to size. A much cleaner solution would be to save it to a database and this should definitely be done in a production setting.\n",
    "5. The API is designed to serve one call at a time. There are more robust solutions which allow for calls in parallel up to a large amount. It should also not run in a local machine, but instead be deployed in a virtual machine."
   ]
  }
 ],
 "metadata": {
  "kernelspec": {
   "display_name": "Python 3 (ipykernel)",
   "language": "python",
   "name": "python3"
  },
  "language_info": {
   "codemirror_mode": {
    "name": "ipython",
    "version": 3
   },
   "file_extension": ".py",
   "mimetype": "text/x-python",
   "name": "python",
   "nbconvert_exporter": "python",
   "pygments_lexer": "ipython3",
   "version": "3.8.5"
  }
 },
 "nbformat": 4,
 "nbformat_minor": 5
}
